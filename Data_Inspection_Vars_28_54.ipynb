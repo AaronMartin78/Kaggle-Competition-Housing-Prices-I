{
 "cells": [
  {
   "cell_type": "code",
   "execution_count": 1,
   "id": "2cc6ff22-1896-434c-979c-271f1457cc0a",
   "metadata": {},
   "outputs": [],
   "source": [
    "import pandas as pd\n",
    "import numpy as np\n",
    "import matplotlib.pyplot as plt\n",
    "from sklearn.preprocessing import OneHotEncoder"
   ]
  },
  {
   "cell_type": "code",
   "execution_count": 2,
   "id": "85c50fba-4df0-4dc6-971a-eed84218ed8e",
   "metadata": {},
   "outputs": [
    {
     "ename": "FileNotFoundError",
     "evalue": "[Errno 2] No such file or directory: 'train.csv'",
     "output_type": "error",
     "traceback": [
      "\u001b[1;31m---------------------------------------------------------------------------\u001b[0m",
      "\u001b[1;31mFileNotFoundError\u001b[0m                         Traceback (most recent call last)",
      "Cell \u001b[1;32mIn[2], line 1\u001b[0m\n\u001b[1;32m----> 1\u001b[0m df \u001b[38;5;241m=\u001b[39m \u001b[43mpd\u001b[49m\u001b[38;5;241;43m.\u001b[39;49m\u001b[43mread_csv\u001b[49m\u001b[43m(\u001b[49m\u001b[38;5;124;43m\"\u001b[39;49m\u001b[38;5;124;43mtrain.csv\u001b[39;49m\u001b[38;5;124;43m\"\u001b[39;49m\u001b[43m,\u001b[49m\u001b[43m \u001b[49m\u001b[43mindex_col\u001b[49m\u001b[38;5;241;43m=\u001b[39;49m\u001b[43m \u001b[49m\u001b[38;5;241;43m0\u001b[39;49m\u001b[43m)\u001b[49m\n\u001b[0;32m      2\u001b[0m display(df\u001b[38;5;241m.\u001b[39mhead())\n",
      "File \u001b[1;32m~\\anaconda3\\envs\\kaggle_comp\\lib\\site-packages\\pandas\\io\\parsers\\readers.py:1026\u001b[0m, in \u001b[0;36mread_csv\u001b[1;34m(filepath_or_buffer, sep, delimiter, header, names, index_col, usecols, dtype, engine, converters, true_values, false_values, skipinitialspace, skiprows, skipfooter, nrows, na_values, keep_default_na, na_filter, verbose, skip_blank_lines, parse_dates, infer_datetime_format, keep_date_col, date_parser, date_format, dayfirst, cache_dates, iterator, chunksize, compression, thousands, decimal, lineterminator, quotechar, quoting, doublequote, escapechar, comment, encoding, encoding_errors, dialect, on_bad_lines, delim_whitespace, low_memory, memory_map, float_precision, storage_options, dtype_backend)\u001b[0m\n\u001b[0;32m   1013\u001b[0m kwds_defaults \u001b[38;5;241m=\u001b[39m _refine_defaults_read(\n\u001b[0;32m   1014\u001b[0m     dialect,\n\u001b[0;32m   1015\u001b[0m     delimiter,\n\u001b[1;32m   (...)\u001b[0m\n\u001b[0;32m   1022\u001b[0m     dtype_backend\u001b[38;5;241m=\u001b[39mdtype_backend,\n\u001b[0;32m   1023\u001b[0m )\n\u001b[0;32m   1024\u001b[0m kwds\u001b[38;5;241m.\u001b[39mupdate(kwds_defaults)\n\u001b[1;32m-> 1026\u001b[0m \u001b[38;5;28;01mreturn\u001b[39;00m \u001b[43m_read\u001b[49m\u001b[43m(\u001b[49m\u001b[43mfilepath_or_buffer\u001b[49m\u001b[43m,\u001b[49m\u001b[43m \u001b[49m\u001b[43mkwds\u001b[49m\u001b[43m)\u001b[49m\n",
      "File \u001b[1;32m~\\anaconda3\\envs\\kaggle_comp\\lib\\site-packages\\pandas\\io\\parsers\\readers.py:620\u001b[0m, in \u001b[0;36m_read\u001b[1;34m(filepath_or_buffer, kwds)\u001b[0m\n\u001b[0;32m    617\u001b[0m _validate_names(kwds\u001b[38;5;241m.\u001b[39mget(\u001b[38;5;124m\"\u001b[39m\u001b[38;5;124mnames\u001b[39m\u001b[38;5;124m\"\u001b[39m, \u001b[38;5;28;01mNone\u001b[39;00m))\n\u001b[0;32m    619\u001b[0m \u001b[38;5;66;03m# Create the parser.\u001b[39;00m\n\u001b[1;32m--> 620\u001b[0m parser \u001b[38;5;241m=\u001b[39m TextFileReader(filepath_or_buffer, \u001b[38;5;241m*\u001b[39m\u001b[38;5;241m*\u001b[39mkwds)\n\u001b[0;32m    622\u001b[0m \u001b[38;5;28;01mif\u001b[39;00m chunksize \u001b[38;5;129;01mor\u001b[39;00m iterator:\n\u001b[0;32m    623\u001b[0m     \u001b[38;5;28;01mreturn\u001b[39;00m parser\n",
      "File \u001b[1;32m~\\anaconda3\\envs\\kaggle_comp\\lib\\site-packages\\pandas\\io\\parsers\\readers.py:1620\u001b[0m, in \u001b[0;36mTextFileReader.__init__\u001b[1;34m(self, f, engine, **kwds)\u001b[0m\n\u001b[0;32m   1617\u001b[0m     \u001b[38;5;28mself\u001b[39m\u001b[38;5;241m.\u001b[39moptions[\u001b[38;5;124m\"\u001b[39m\u001b[38;5;124mhas_index_names\u001b[39m\u001b[38;5;124m\"\u001b[39m] \u001b[38;5;241m=\u001b[39m kwds[\u001b[38;5;124m\"\u001b[39m\u001b[38;5;124mhas_index_names\u001b[39m\u001b[38;5;124m\"\u001b[39m]\n\u001b[0;32m   1619\u001b[0m \u001b[38;5;28mself\u001b[39m\u001b[38;5;241m.\u001b[39mhandles: IOHandles \u001b[38;5;241m|\u001b[39m \u001b[38;5;28;01mNone\u001b[39;00m \u001b[38;5;241m=\u001b[39m \u001b[38;5;28;01mNone\u001b[39;00m\n\u001b[1;32m-> 1620\u001b[0m \u001b[38;5;28mself\u001b[39m\u001b[38;5;241m.\u001b[39m_engine \u001b[38;5;241m=\u001b[39m \u001b[38;5;28;43mself\u001b[39;49m\u001b[38;5;241;43m.\u001b[39;49m\u001b[43m_make_engine\u001b[49m\u001b[43m(\u001b[49m\u001b[43mf\u001b[49m\u001b[43m,\u001b[49m\u001b[43m \u001b[49m\u001b[38;5;28;43mself\u001b[39;49m\u001b[38;5;241;43m.\u001b[39;49m\u001b[43mengine\u001b[49m\u001b[43m)\u001b[49m\n",
      "File \u001b[1;32m~\\anaconda3\\envs\\kaggle_comp\\lib\\site-packages\\pandas\\io\\parsers\\readers.py:1880\u001b[0m, in \u001b[0;36mTextFileReader._make_engine\u001b[1;34m(self, f, engine)\u001b[0m\n\u001b[0;32m   1878\u001b[0m     \u001b[38;5;28;01mif\u001b[39;00m \u001b[38;5;124m\"\u001b[39m\u001b[38;5;124mb\u001b[39m\u001b[38;5;124m\"\u001b[39m \u001b[38;5;129;01mnot\u001b[39;00m \u001b[38;5;129;01min\u001b[39;00m mode:\n\u001b[0;32m   1879\u001b[0m         mode \u001b[38;5;241m+\u001b[39m\u001b[38;5;241m=\u001b[39m \u001b[38;5;124m\"\u001b[39m\u001b[38;5;124mb\u001b[39m\u001b[38;5;124m\"\u001b[39m\n\u001b[1;32m-> 1880\u001b[0m \u001b[38;5;28mself\u001b[39m\u001b[38;5;241m.\u001b[39mhandles \u001b[38;5;241m=\u001b[39m \u001b[43mget_handle\u001b[49m\u001b[43m(\u001b[49m\n\u001b[0;32m   1881\u001b[0m \u001b[43m    \u001b[49m\u001b[43mf\u001b[49m\u001b[43m,\u001b[49m\n\u001b[0;32m   1882\u001b[0m \u001b[43m    \u001b[49m\u001b[43mmode\u001b[49m\u001b[43m,\u001b[49m\n\u001b[0;32m   1883\u001b[0m \u001b[43m    \u001b[49m\u001b[43mencoding\u001b[49m\u001b[38;5;241;43m=\u001b[39;49m\u001b[38;5;28;43mself\u001b[39;49m\u001b[38;5;241;43m.\u001b[39;49m\u001b[43moptions\u001b[49m\u001b[38;5;241;43m.\u001b[39;49m\u001b[43mget\u001b[49m\u001b[43m(\u001b[49m\u001b[38;5;124;43m\"\u001b[39;49m\u001b[38;5;124;43mencoding\u001b[39;49m\u001b[38;5;124;43m\"\u001b[39;49m\u001b[43m,\u001b[49m\u001b[43m \u001b[49m\u001b[38;5;28;43;01mNone\u001b[39;49;00m\u001b[43m)\u001b[49m\u001b[43m,\u001b[49m\n\u001b[0;32m   1884\u001b[0m \u001b[43m    \u001b[49m\u001b[43mcompression\u001b[49m\u001b[38;5;241;43m=\u001b[39;49m\u001b[38;5;28;43mself\u001b[39;49m\u001b[38;5;241;43m.\u001b[39;49m\u001b[43moptions\u001b[49m\u001b[38;5;241;43m.\u001b[39;49m\u001b[43mget\u001b[49m\u001b[43m(\u001b[49m\u001b[38;5;124;43m\"\u001b[39;49m\u001b[38;5;124;43mcompression\u001b[39;49m\u001b[38;5;124;43m\"\u001b[39;49m\u001b[43m,\u001b[49m\u001b[43m \u001b[49m\u001b[38;5;28;43;01mNone\u001b[39;49;00m\u001b[43m)\u001b[49m\u001b[43m,\u001b[49m\n\u001b[0;32m   1885\u001b[0m \u001b[43m    \u001b[49m\u001b[43mmemory_map\u001b[49m\u001b[38;5;241;43m=\u001b[39;49m\u001b[38;5;28;43mself\u001b[39;49m\u001b[38;5;241;43m.\u001b[39;49m\u001b[43moptions\u001b[49m\u001b[38;5;241;43m.\u001b[39;49m\u001b[43mget\u001b[49m\u001b[43m(\u001b[49m\u001b[38;5;124;43m\"\u001b[39;49m\u001b[38;5;124;43mmemory_map\u001b[39;49m\u001b[38;5;124;43m\"\u001b[39;49m\u001b[43m,\u001b[49m\u001b[43m \u001b[49m\u001b[38;5;28;43;01mFalse\u001b[39;49;00m\u001b[43m)\u001b[49m\u001b[43m,\u001b[49m\n\u001b[0;32m   1886\u001b[0m \u001b[43m    \u001b[49m\u001b[43mis_text\u001b[49m\u001b[38;5;241;43m=\u001b[39;49m\u001b[43mis_text\u001b[49m\u001b[43m,\u001b[49m\n\u001b[0;32m   1887\u001b[0m \u001b[43m    \u001b[49m\u001b[43merrors\u001b[49m\u001b[38;5;241;43m=\u001b[39;49m\u001b[38;5;28;43mself\u001b[39;49m\u001b[38;5;241;43m.\u001b[39;49m\u001b[43moptions\u001b[49m\u001b[38;5;241;43m.\u001b[39;49m\u001b[43mget\u001b[49m\u001b[43m(\u001b[49m\u001b[38;5;124;43m\"\u001b[39;49m\u001b[38;5;124;43mencoding_errors\u001b[39;49m\u001b[38;5;124;43m\"\u001b[39;49m\u001b[43m,\u001b[49m\u001b[43m \u001b[49m\u001b[38;5;124;43m\"\u001b[39;49m\u001b[38;5;124;43mstrict\u001b[39;49m\u001b[38;5;124;43m\"\u001b[39;49m\u001b[43m)\u001b[49m\u001b[43m,\u001b[49m\n\u001b[0;32m   1888\u001b[0m \u001b[43m    \u001b[49m\u001b[43mstorage_options\u001b[49m\u001b[38;5;241;43m=\u001b[39;49m\u001b[38;5;28;43mself\u001b[39;49m\u001b[38;5;241;43m.\u001b[39;49m\u001b[43moptions\u001b[49m\u001b[38;5;241;43m.\u001b[39;49m\u001b[43mget\u001b[49m\u001b[43m(\u001b[49m\u001b[38;5;124;43m\"\u001b[39;49m\u001b[38;5;124;43mstorage_options\u001b[39;49m\u001b[38;5;124;43m\"\u001b[39;49m\u001b[43m,\u001b[49m\u001b[43m \u001b[49m\u001b[38;5;28;43;01mNone\u001b[39;49;00m\u001b[43m)\u001b[49m\u001b[43m,\u001b[49m\n\u001b[0;32m   1889\u001b[0m \u001b[43m\u001b[49m\u001b[43m)\u001b[49m\n\u001b[0;32m   1890\u001b[0m \u001b[38;5;28;01massert\u001b[39;00m \u001b[38;5;28mself\u001b[39m\u001b[38;5;241m.\u001b[39mhandles \u001b[38;5;129;01mis\u001b[39;00m \u001b[38;5;129;01mnot\u001b[39;00m \u001b[38;5;28;01mNone\u001b[39;00m\n\u001b[0;32m   1891\u001b[0m f \u001b[38;5;241m=\u001b[39m \u001b[38;5;28mself\u001b[39m\u001b[38;5;241m.\u001b[39mhandles\u001b[38;5;241m.\u001b[39mhandle\n",
      "File \u001b[1;32m~\\anaconda3\\envs\\kaggle_comp\\lib\\site-packages\\pandas\\io\\common.py:873\u001b[0m, in \u001b[0;36mget_handle\u001b[1;34m(path_or_buf, mode, encoding, compression, memory_map, is_text, errors, storage_options)\u001b[0m\n\u001b[0;32m    868\u001b[0m \u001b[38;5;28;01melif\u001b[39;00m \u001b[38;5;28misinstance\u001b[39m(handle, \u001b[38;5;28mstr\u001b[39m):\n\u001b[0;32m    869\u001b[0m     \u001b[38;5;66;03m# Check whether the filename is to be opened in binary mode.\u001b[39;00m\n\u001b[0;32m    870\u001b[0m     \u001b[38;5;66;03m# Binary mode does not support 'encoding' and 'newline'.\u001b[39;00m\n\u001b[0;32m    871\u001b[0m     \u001b[38;5;28;01mif\u001b[39;00m ioargs\u001b[38;5;241m.\u001b[39mencoding \u001b[38;5;129;01mand\u001b[39;00m \u001b[38;5;124m\"\u001b[39m\u001b[38;5;124mb\u001b[39m\u001b[38;5;124m\"\u001b[39m \u001b[38;5;129;01mnot\u001b[39;00m \u001b[38;5;129;01min\u001b[39;00m ioargs\u001b[38;5;241m.\u001b[39mmode:\n\u001b[0;32m    872\u001b[0m         \u001b[38;5;66;03m# Encoding\u001b[39;00m\n\u001b[1;32m--> 873\u001b[0m         handle \u001b[38;5;241m=\u001b[39m \u001b[38;5;28;43mopen\u001b[39;49m\u001b[43m(\u001b[49m\n\u001b[0;32m    874\u001b[0m \u001b[43m            \u001b[49m\u001b[43mhandle\u001b[49m\u001b[43m,\u001b[49m\n\u001b[0;32m    875\u001b[0m \u001b[43m            \u001b[49m\u001b[43mioargs\u001b[49m\u001b[38;5;241;43m.\u001b[39;49m\u001b[43mmode\u001b[49m\u001b[43m,\u001b[49m\n\u001b[0;32m    876\u001b[0m \u001b[43m            \u001b[49m\u001b[43mencoding\u001b[49m\u001b[38;5;241;43m=\u001b[39;49m\u001b[43mioargs\u001b[49m\u001b[38;5;241;43m.\u001b[39;49m\u001b[43mencoding\u001b[49m\u001b[43m,\u001b[49m\n\u001b[0;32m    877\u001b[0m \u001b[43m            \u001b[49m\u001b[43merrors\u001b[49m\u001b[38;5;241;43m=\u001b[39;49m\u001b[43merrors\u001b[49m\u001b[43m,\u001b[49m\n\u001b[0;32m    878\u001b[0m \u001b[43m            \u001b[49m\u001b[43mnewline\u001b[49m\u001b[38;5;241;43m=\u001b[39;49m\u001b[38;5;124;43m\"\u001b[39;49m\u001b[38;5;124;43m\"\u001b[39;49m\u001b[43m,\u001b[49m\n\u001b[0;32m    879\u001b[0m \u001b[43m        \u001b[49m\u001b[43m)\u001b[49m\n\u001b[0;32m    880\u001b[0m     \u001b[38;5;28;01melse\u001b[39;00m:\n\u001b[0;32m    881\u001b[0m         \u001b[38;5;66;03m# Binary mode\u001b[39;00m\n\u001b[0;32m    882\u001b[0m         handle \u001b[38;5;241m=\u001b[39m \u001b[38;5;28mopen\u001b[39m(handle, ioargs\u001b[38;5;241m.\u001b[39mmode)\n",
      "\u001b[1;31mFileNotFoundError\u001b[0m: [Errno 2] No such file or directory: 'train.csv'"
     ]
    }
   ],
   "source": [
    "df = pd.read_csv(\"train.csv\", index_col= 0)\n",
    "display(df.head())"
   ]
  },
  {
   "cell_type": "code",
   "execution_count": null,
   "id": "1476f487-ebf2-4897-8a6f-1d9af7576015",
   "metadata": {},
   "outputs": [],
   "source": [
    "display(df.shape)"
   ]
  },
  {
   "cell_type": "code",
   "execution_count": null,
   "id": "f6efe5d9-65c5-4cdf-89d1-3782fbefb0cb",
   "metadata": {},
   "outputs": [],
   "source": [
    "display(df.columns)"
   ]
  },
  {
   "cell_type": "code",
   "execution_count": null,
   "id": "56561cd4-76bc-4b2d-984f-5e4bbcb5adb9",
   "metadata": {},
   "outputs": [],
   "source": [
    "columns_to_select = [\n",
    "    'ExterCond', 'Foundation', 'BsmtQual', 'BsmtCond', 'BsmtExposure', 'BsmtFinType1', \n",
    "    'BsmtFinSF1', 'BsmtFinType2', 'BsmtFinSF2', 'BsmtUnfSF', 'TotalBsmtSF', 'Heating', \n",
    "    'HeatingQC', 'CentralAir', 'Electrical', '1stFlrSF', '2ndFlrSF', 'LowQualFinSF', \n",
    "    'GrLivArea', 'BsmtFullBath', 'BsmtHalfBath', 'FullBath', 'HalfBath', 'BedroomAbvGr', \n",
    "    'KitchenAbvGr', 'KitchenQual', 'TotRmsAbvGrd'\n",
    "]\n",
    "\n",
    "# Select columns\n",
    "df_selected = df[columns_to_select]"
   ]
  },
  {
   "cell_type": "code",
   "execution_count": null,
   "id": "45cf3312-bc4d-47d6-953d-ea72cb444a40",
   "metadata": {},
   "outputs": [],
   "source": [
    "display(df_selected.head(5))"
   ]
  },
  {
   "cell_type": "code",
   "execution_count": null,
   "id": "3876e12c-048c-4c2a-bf9b-6409f7f8f745",
   "metadata": {},
   "outputs": [],
   "source": [
    "df_selected.columns"
   ]
  },
  {
   "cell_type": "code",
   "execution_count": null,
   "id": "bfd0131a-9d2e-4b42-92d4-3c56131e5401",
   "metadata": {},
   "outputs": [],
   "source": [
    "# Missing values\n",
    "missing_values = df_selected.isnull().sum()\n",
    "\n",
    "# Duplicate rows\n",
    "duplicates = df_selected.duplicated().sum()\n",
    "\n",
    "display(missing_values)\n",
    "display(duplicates)"
   ]
  },
  {
   "cell_type": "code",
   "execution_count": null,
   "id": "1a24363e-f314-464d-926e-ccc3ceb32b1f",
   "metadata": {},
   "outputs": [],
   "source": [
    "# Print all dupes, originals and duplicates\n",
    "duplicates = df_selected[df_selected.duplicated(keep=False)]\n",
    "display(duplicates)"
   ]
  },
  {
   "cell_type": "code",
   "execution_count": null,
   "id": "710241ee-bf29-45c0-a58a-25ed02d23e8a",
   "metadata": {},
   "outputs": [],
   "source": [
    "#Sort Duplicates by Living Area in order to see which pairs are dupes\n",
    "\n",
    "duplicates_sorted = duplicates.sort_values(by='GrLivArea')\n",
    "display(duplicates_sorted)"
   ]
  },
  {
   "cell_type": "code",
   "execution_count": null,
   "id": "d849fb80-3de0-4ec4-92ec-54c186e727fb",
   "metadata": {},
   "outputs": [],
   "source": [
    "# Examine the Missing Values\n",
    "\n",
    "df_with_nans = df_selected[df_selected.isna().any(axis=1)]\n",
    "display(df_with_nans)"
   ]
  },
  {
   "cell_type": "code",
   "execution_count": null,
   "id": "1902be4e-c25c-4a34-a4f5-06d31017dea3",
   "metadata": {},
   "outputs": [],
   "source": [
    "# House with no Basements are coded as Nan\n",
    "\n",
    "# I replace this with \"no basement\" to avoid confusion\n",
    "\n",
    "# Select all columns starting with 'Bsmt'\n",
    "bsmt_columns = df_selected.columns[df_selected.columns.str.startswith('Bsmt')]\n",
    "\n",
    "# Replace both NaN and <NA> with 'no basement'\n",
    "df_selected.loc[:, bsmt_columns] = df_selected.loc[:, bsmt_columns].apply(lambda x: x.fillna('no basement').replace({np.nan: 'no basement'}))\n",
    "\n",
    "#df_selected.loc[:, df_selected.columns.str.startswith('Bsmt')] = df_selected.loc[:, df_selected.columns.str.startswith('Bsmt')].fillna('no basement')\n",
    "\n",
    "#df_selected.loc[:, df_selected.columns.str.startswith('Bsmt')] = df_selected.loc[:, df_selected.columns.str.startswith('Bsmt')].replace({np.nan: 'no basement'})\n",
    "\n"
   ]
  },
  {
   "cell_type": "code",
   "execution_count": null,
   "id": "0e83b0e7-55df-407f-a2ce-0c3a170a72c0",
   "metadata": {},
   "outputs": [],
   "source": [
    "df_selected['BsmtQual'].unique()"
   ]
  },
  {
   "cell_type": "code",
   "execution_count": null,
   "id": "99beef75-e299-442e-bda1-1a14333238dc",
   "metadata": {},
   "outputs": [],
   "source": [
    "missing_values = df_selected.isnull().sum()\n",
    "display(missing_values)"
   ]
  },
  {
   "cell_type": "code",
   "execution_count": null,
   "id": "c1363845-8609-45ed-acc1-4db2ed777fb4",
   "metadata": {},
   "outputs": [],
   "source": [
    "# NaN in the \"Electrical\" column\n",
    "\n",
    "pd.set_option('display.max_columns', 27)\n",
    "missing_electrical = df_selected[df_selected['Electrical'].isna()]\n",
    "display(missing_electrical)"
   ]
  },
  {
   "cell_type": "code",
   "execution_count": null,
   "id": "7b488549-2970-477f-89d9-9d255f62979a",
   "metadata": {},
   "outputs": [],
   "source": [
    "# There is one missing value in Electricity\n",
    "# Instead of just finding the mode of the electricity variable, I take the mode\n",
    "# of Electricity for all of the houses that have similar characteristics in terms of\n",
    "# Central Air, Heating, and Heating QC.\n",
    "\n",
    "filtered_data = df_selected[(df_selected['CentralAir'] == 'Y') & \n",
    "                            (df_selected['Heating'] == 'GasA') & \n",
    "                            (df_selected['HeatingQC'] == 'Gd')]\n",
    "\n",
    "# Mode\n",
    "mode_electrical = filtered_data['Electrical'].mode()\n",
    "print(filtered_data.head())\n",
    "\n",
    "# Display the mode(s)\n",
    "display(mode_electrical)"
   ]
  },
  {
   "cell_type": "code",
   "execution_count": 210,
   "id": "a5c363ed-3a19-442f-b4ad-73c39d637ac5",
   "metadata": {},
   "outputs": [],
   "source": [
    "# replace the one missing value with the associated mode from above\n",
    "df_selected.loc[:, 'Electrical'] = df_selected['Electrical'].fillna('SBrkr')"
   ]
  },
  {
   "cell_type": "code",
   "execution_count": 211,
   "id": "46d0d0f0-dc92-4a64-8570-ed3ccff54695",
   "metadata": {},
   "outputs": [
    {
     "data": {
      "text/plain": [
       "ExterCond       0\n",
       "Foundation      0\n",
       "BsmtQual        0\n",
       "BsmtCond        0\n",
       "BsmtExposure    0\n",
       "BsmtFinType1    0\n",
       "BsmtFinSF1      0\n",
       "BsmtFinType2    0\n",
       "BsmtFinSF2      0\n",
       "BsmtUnfSF       0\n",
       "TotalBsmtSF     0\n",
       "Heating         0\n",
       "HeatingQC       0\n",
       "CentralAir      0\n",
       "Electrical      0\n",
       "1stFlrSF        0\n",
       "2ndFlrSF        0\n",
       "LowQualFinSF    0\n",
       "GrLivArea       0\n",
       "BsmtFullBath    0\n",
       "BsmtHalfBath    0\n",
       "FullBath        0\n",
       "HalfBath        0\n",
       "BedroomAbvGr    0\n",
       "KitchenAbvGr    0\n",
       "KitchenQual     0\n",
       "TotRmsAbvGrd    0\n",
       "dtype: int64"
      ]
     },
     "metadata": {},
     "output_type": "display_data"
    }
   ],
   "source": [
    "missing_values = df_selected.isnull().sum()\n",
    "display(missing_values)\n",
    "\n",
    "## No more Missing values"
   ]
  },
  {
   "cell_type": "code",
   "execution_count": 212,
   "id": "a35ca24a-3c42-43a2-bee2-e81c210b0f30",
   "metadata": {},
   "outputs": [
    {
     "name": "stdout",
     "output_type": "stream",
     "text": [
      "<class 'pandas.core.frame.DataFrame'>\n",
      "Index: 1460 entries, 1 to 1460\n",
      "Data columns (total 27 columns):\n",
      " #   Column        Non-Null Count  Dtype \n",
      "---  ------        --------------  ----- \n",
      " 0   ExterCond     1460 non-null   object\n",
      " 1   Foundation    1460 non-null   object\n",
      " 2   BsmtQual      1460 non-null   object\n",
      " 3   BsmtCond      1460 non-null   object\n",
      " 4   BsmtExposure  1460 non-null   object\n",
      " 5   BsmtFinType1  1460 non-null   object\n",
      " 6   BsmtFinSF1    1460 non-null   int64 \n",
      " 7   BsmtFinType2  1460 non-null   object\n",
      " 8   BsmtFinSF2    1460 non-null   int64 \n",
      " 9   BsmtUnfSF     1460 non-null   int64 \n",
      " 10  TotalBsmtSF   1460 non-null   int64 \n",
      " 11  Heating       1460 non-null   object\n",
      " 12  HeatingQC     1460 non-null   object\n",
      " 13  CentralAir    1460 non-null   object\n",
      " 14  Electrical    1460 non-null   object\n",
      " 15  1stFlrSF      1460 non-null   int64 \n",
      " 16  2ndFlrSF      1460 non-null   int64 \n",
      " 17  LowQualFinSF  1460 non-null   int64 \n",
      " 18  GrLivArea     1460 non-null   int64 \n",
      " 19  BsmtFullBath  1460 non-null   int64 \n",
      " 20  BsmtHalfBath  1460 non-null   int64 \n",
      " 21  FullBath      1460 non-null   int64 \n",
      " 22  HalfBath      1460 non-null   int64 \n",
      " 23  BedroomAbvGr  1460 non-null   int64 \n",
      " 24  KitchenAbvGr  1460 non-null   int64 \n",
      " 25  KitchenQual   1460 non-null   object\n",
      " 26  TotRmsAbvGrd  1460 non-null   int64 \n",
      "dtypes: int64(15), object(12)\n",
      "memory usage: 319.4+ KB\n"
     ]
    }
   ],
   "source": [
    "df_selected.info()"
   ]
  },
  {
   "cell_type": "markdown",
   "id": "c358b3de-81d8-4dd6-8223-dac3f33224ba",
   "metadata": {},
   "source": [
    "# Above has replaced the missing values and Identified potential duplicates"
   ]
  },
  {
   "cell_type": "markdown",
   "id": "c00781da-ce96-4f70-8004-1da57d257d9b",
   "metadata": {},
   "source": [
    "# Convert Categorical and Ordinal Variables to Numeric"
   ]
  },
  {
   "cell_type": "markdown",
   "id": "d2340ff6-a63f-449f-a9d1-b5b966ab2af2",
   "metadata": {},
   "source": [
    "## Create Lists of Categorical, Ordinal, and Numeric Variables'"
   ]
  },
  {
   "cell_type": "code",
   "execution_count": 213,
   "id": "2758a9c8-d326-405b-b3f4-9d1bcdb49f22",
   "metadata": {},
   "outputs": [],
   "source": [
    "cat_vars = ['Foundation', 'Heating', 'Electrical']\n",
    "\n",
    "ordinal_vars = ['ExterCond', 'BsmtQual', 'BsmtCond' 'BsmtExposure', 'BsmtFinType1', 'BsmtFinType2', 'HeatingQC',\n",
    "                'CentralAir', 'KitchenQual']                \n",
    "\n",
    "numeric_vars = ['BsmtFinSF1', 'BsmtFinSF2', 'BsmtUnfSF', 'TotalBsmtSF', '1stFlrSF', '2ndFlrSF', 'LowQualFinSF',\n",
    "                'GrLivArea', 'BsmtFullBath', 'BsmtHalfBath', 'FullBath', 'HalfBath', 'Bedroom', 'Kitchen', 'TotRmsAbvGrd']"
   ]
  },
  {
   "cell_type": "markdown",
   "id": "6c84c226-0a3a-4733-b25c-6d2f3cb0362f",
   "metadata": {},
   "source": [
    "## Create dictionary of variable codings"
   ]
  },
  {
   "cell_type": "code",
   "execution_count": 214,
   "id": "e4be6d0a-35e4-42c1-b8e1-81c912c500c8",
   "metadata": {},
   "outputs": [],
   "source": [
    "var_dict = {\n",
    "    'ExterCond': ['Po', 'Fa', 'TA', 'Gd', 'Ex'],\n",
    "    'BsmtQual': ['no basement', 'Po', 'Fa', 'TA', 'Gd', 'Ex'],\n",
    "    'BsmtCond': ['no basement', 'Po', 'Fa', 'TA', 'Gd', 'Ex'],\n",
    "    'BsmtExposure': ['no basement', 'No', 'Mn', 'Av', 'Gd'],\n",
    "    'BsmtFinType1': ['no basement', 'Unf', 'LwQ', 'Rec', 'BLQ', 'ALQ', 'GLQ'],\n",
    "    'BsmtFinType2': ['no basement', 'Unf', 'LwQ', 'Rec', 'BLQ', 'ALQ', 'GLQ'],\n",
    "    'HeatingQC': ['Po', 'Fa', 'TA', 'Gd', 'Ex'],\n",
    "    'CentralAir': ['N', 'Y'],\n",
    "    'KitchenQual': ['Po', 'Fa', 'TA', 'Gd', 'Ex']\n",
    "}"
   ]
  },
  {
   "cell_type": "code",
   "execution_count": 215,
   "id": "fc542028-e206-454a-a706-da5b367769a1",
   "metadata": {},
   "outputs": [
    {
     "name": "stdout",
     "output_type": "stream",
     "text": [
      "\n",
      "Processed ExterCond:\n",
      "Mapping: {'Po': 1, 'Fa': 2, 'TA': 3, 'Gd': 4, 'Ex': 5}\n",
      "Unique values in DataFrame: [3 4 2 1 5]\n",
      "\n",
      "Processed BsmtQual:\n",
      "Mapping: {'no basement': 0, 'Po': 1, 'Fa': 2, 'TA': 3, 'Gd': 4, 'Ex': 5}\n",
      "Unique values in DataFrame: [4 3 5 0 2]\n",
      "\n",
      "Processed BsmtCond:\n",
      "Mapping: {'no basement': 0, 'Po': 1, 'Fa': 2, 'TA': 3, 'Gd': 4, 'Ex': 5}\n",
      "Unique values in DataFrame: [3 4 0 2 1]\n",
      "\n",
      "Processed BsmtExposure:\n",
      "Mapping: {'no basement': 0, 'No': 1, 'Mn': 2, 'Av': 3, 'Gd': 4}\n",
      "Unique values in DataFrame: [1 4 2 3 0]\n",
      "\n",
      "Processed BsmtFinType1:\n",
      "Mapping: {'no basement': 0, 'Unf': 1, 'LwQ': 2, 'Rec': 3, 'BLQ': 4, 'ALQ': 5, 'GLQ': 6}\n",
      "Unique values in DataFrame: [6 5 1 3 4 0 2]\n",
      "\n",
      "Processed BsmtFinType2:\n",
      "Mapping: {'no basement': 0, 'Unf': 1, 'LwQ': 2, 'Rec': 3, 'BLQ': 4, 'ALQ': 5, 'GLQ': 6}\n",
      "Unique values in DataFrame: [1 4 0 5 3 2 6]\n",
      "\n",
      "Processed HeatingQC:\n",
      "Mapping: {'Po': 1, 'Fa': 2, 'TA': 3, 'Gd': 4, 'Ex': 5}\n",
      "Unique values in DataFrame: [5 4 3 2 1]\n",
      "\n",
      "Processed CentralAir:\n",
      "Mapping: {'N': 0, 'Y': 1}\n",
      "Unique values in DataFrame: [1 0]\n",
      "\n",
      "Processed KitchenQual:\n",
      "Mapping: {'Po': 1, 'Fa': 2, 'TA': 3, 'Gd': 4, 'Ex': 5}\n",
      "Unique values in DataFrame: [4 3 5 2]\n"
     ]
    }
   ],
   "source": [
    " df_selected = df_selected.copy()\n",
    "\n",
    "# Define binary variables\n",
    "binary_vars = ['CentralAir']\n",
    "\n",
    "def create_mapping(categories, variable):\n",
    "    mapping = {}\n",
    "    \n",
    "    # Handle binary variables\n",
    "    if variable in binary_vars:\n",
    "        mapping = {'N': 0, 'Y': 1}\n",
    "        return mapping\n",
    "    \n",
    "    # Handle ordinal variables\n",
    "    start_idx = 0\n",
    "    if categories[0] == 'no basement':\n",
    "        mapping['no basement'] = 0\n",
    "        start_idx = 1\n",
    "    \n",
    "    for i, category in enumerate(categories[start_idx:], start=1):\n",
    "        mapping[category] = i\n",
    "        \n",
    "    return mapping\n",
    "\n",
    "# Debugging function to find mismatched values\n",
    "def find_mismatches(df, variable, mapping):\n",
    "    actual_values = set(df[variable].unique())\n",
    "    mapping_keys = set(mapping.keys())\n",
    "    mismatched_values = actual_values - mapping_keys\n",
    "    return mismatched_values\n",
    "\n",
    "# Create all mappings and apply them to the dataframe\n",
    "for variable, categories in var_dict.items():\n",
    "    # Create mapping for this variable\n",
    "    mapping = create_mapping(categories, variable)\n",
    "    \n",
    "    # Find mismatched values\n",
    "    mismatches = find_mismatches(df_selected, variable, mapping)\n",
    "    if mismatches:\n",
    "        print(f\"Warning: Mismatched values for '{variable}': {mismatches}\")\n",
    "    \n",
    "    # Apply mapping using .map()\n",
    "    df_selected[variable] = df_selected[variable].map(mapping)\n",
    "    \n",
    "    # Handle potential NaN values\n",
    "    if df_selected[variable].isna().any():\n",
    "        print(f\"Warning: Found NaN values in '{variable}' after mapping. Filling with 0.\")\n",
    "        df_selected[variable] = df_selected[variable].fillna(0)\n",
    "    \n",
    "    # Convert to int64\n",
    "    df_selected[variable] = df_selected[variable].astype('int64')\n",
    "    \n",
    "    # Print results for verification\n",
    "    print(f\"\\nProcessed {variable}:\")\n",
    "    print(\"Mapping:\", mapping)\n",
    "    print(\"Unique values in DataFrame:\", df_selected[variable].unique())"
   ]
  },
  {
   "cell_type": "code",
   "execution_count": 216,
   "id": "8e639563-6d25-46e7-9471-31573a9e1b92",
   "metadata": {},
   "outputs": [
    {
     "data": {
      "text/plain": [
       "ExterCond       0\n",
       "Foundation      0\n",
       "BsmtQual        0\n",
       "BsmtCond        0\n",
       "BsmtExposure    0\n",
       "BsmtFinType1    0\n",
       "BsmtFinSF1      0\n",
       "BsmtFinType2    0\n",
       "BsmtFinSF2      0\n",
       "BsmtUnfSF       0\n",
       "TotalBsmtSF     0\n",
       "Heating         0\n",
       "HeatingQC       0\n",
       "CentralAir      0\n",
       "Electrical      0\n",
       "1stFlrSF        0\n",
       "2ndFlrSF        0\n",
       "LowQualFinSF    0\n",
       "GrLivArea       0\n",
       "BsmtFullBath    0\n",
       "BsmtHalfBath    0\n",
       "FullBath        0\n",
       "HalfBath        0\n",
       "BedroomAbvGr    0\n",
       "KitchenAbvGr    0\n",
       "KitchenQual     0\n",
       "TotRmsAbvGrd    0\n",
       "dtype: int64"
      ]
     },
     "execution_count": 216,
     "metadata": {},
     "output_type": "execute_result"
    }
   ],
   "source": [
    "df_selected.isnull().sum()"
   ]
  },
  {
   "cell_type": "code",
   "execution_count": 217,
   "id": "cee8ca8d-8e90-4644-b893-d4adafd55148",
   "metadata": {},
   "outputs": [
    {
     "name": "stdout",
     "output_type": "stream",
     "text": [
      "<class 'pandas.core.frame.DataFrame'>\n",
      "Index: 1460 entries, 1 to 1460\n",
      "Data columns (total 27 columns):\n",
      " #   Column        Non-Null Count  Dtype \n",
      "---  ------        --------------  ----- \n",
      " 0   ExterCond     1460 non-null   int64 \n",
      " 1   Foundation    1460 non-null   object\n",
      " 2   BsmtQual      1460 non-null   int64 \n",
      " 3   BsmtCond      1460 non-null   int64 \n",
      " 4   BsmtExposure  1460 non-null   int64 \n",
      " 5   BsmtFinType1  1460 non-null   int64 \n",
      " 6   BsmtFinSF1    1460 non-null   int64 \n",
      " 7   BsmtFinType2  1460 non-null   int64 \n",
      " 8   BsmtFinSF2    1460 non-null   int64 \n",
      " 9   BsmtUnfSF     1460 non-null   int64 \n",
      " 10  TotalBsmtSF   1460 non-null   int64 \n",
      " 11  Heating       1460 non-null   object\n",
      " 12  HeatingQC     1460 non-null   int64 \n",
      " 13  CentralAir    1460 non-null   int64 \n",
      " 14  Electrical    1460 non-null   object\n",
      " 15  1stFlrSF      1460 non-null   int64 \n",
      " 16  2ndFlrSF      1460 non-null   int64 \n",
      " 17  LowQualFinSF  1460 non-null   int64 \n",
      " 18  GrLivArea     1460 non-null   int64 \n",
      " 19  BsmtFullBath  1460 non-null   int64 \n",
      " 20  BsmtHalfBath  1460 non-null   int64 \n",
      " 21  FullBath      1460 non-null   int64 \n",
      " 22  HalfBath      1460 non-null   int64 \n",
      " 23  BedroomAbvGr  1460 non-null   int64 \n",
      " 24  KitchenAbvGr  1460 non-null   int64 \n",
      " 25  KitchenQual   1460 non-null   int64 \n",
      " 26  TotRmsAbvGrd  1460 non-null   int64 \n",
      "dtypes: int64(24), object(3)\n",
      "memory usage: 319.4+ KB\n"
     ]
    }
   ],
   "source": [
    "df_selected.info()"
   ]
  },
  {
   "cell_type": "markdown",
   "id": "9816108d-fbd7-4e95-8bc2-331d21468e5f",
   "metadata": {},
   "source": [
    "# Encode Categorical Variables Using the One Hot Encoder"
   ]
  },
  {
   "cell_type": "code",
   "execution_count": 218,
   "id": "6aa6c4b5-86bd-46c9-a2b6-21ee439a0004",
   "metadata": {},
   "outputs": [
    {
     "name": "stdout",
     "output_type": "stream",
     "text": [
      "Original df_selected shape: (1460, 24)\n",
      "encoded_df shape: (1460, 17)\n",
      "Final merged df shape: (1460, 41)\n",
      "\n",
      "Column types in final dataframe:\n",
      "int64    23\n",
      "bool     18\n",
      "Name: count, dtype: int64\n"
     ]
    }
   ],
   "source": [
    "# Create and fit the encoder\n",
    "encoder = OneHotEncoder(sparse_output=False, drop=None, handle_unknown='error')\n",
    "encoded_cats = encoder.fit_transform(df_selected[cat_vars])\n",
    "\n",
    "# Get feature names and create DataFrame with boolean type\n",
    "feature_names = encoder.get_feature_names_out(cat_vars)\n",
    "encoded_df = pd.DataFrame(encoded_cats, columns=feature_names, index=df.index).astype(bool)\n",
    "\n",
    "# Drop original categorical columns and merge with encoded ones\n",
    "df_selected = df_selected.drop(columns=cat_vars)\n",
    "df_final = pd.concat([df_selected, encoded_df], axis=1)\n",
    "\n",
    "#change CentraAir to boolean\n",
    "df_final['CentralAir'] = df_final['CentralAir'].astype(bool)\n",
    "\n",
    "# Verification prints\n",
    "print(\"Original df_selected shape:\", df_selected.shape)\n",
    "print(\"encoded_df shape:\", encoded_df.shape)\n",
    "print(\"Final merged df shape:\", df_final.shape)\n",
    "print(\"\\nColumn types in final dataframe:\")\n",
    "print(df_final.dtypes.value_counts())"
   ]
  },
  {
   "cell_type": "code",
   "execution_count": 219,
   "id": "83c7d538-eeef-4f7c-845c-51bb54a668ad",
   "metadata": {},
   "outputs": [
    {
     "name": "stdout",
     "output_type": "stream",
     "text": [
      "<class 'pandas.core.frame.DataFrame'>\n",
      "Index: 1460 entries, 1 to 1460\n",
      "Data columns (total 41 columns):\n",
      " #   Column             Non-Null Count  Dtype\n",
      "---  ------             --------------  -----\n",
      " 0   ExterCond          1460 non-null   int64\n",
      " 1   BsmtQual           1460 non-null   int64\n",
      " 2   BsmtCond           1460 non-null   int64\n",
      " 3   BsmtExposure       1460 non-null   int64\n",
      " 4   BsmtFinType1       1460 non-null   int64\n",
      " 5   BsmtFinSF1         1460 non-null   int64\n",
      " 6   BsmtFinType2       1460 non-null   int64\n",
      " 7   BsmtFinSF2         1460 non-null   int64\n",
      " 8   BsmtUnfSF          1460 non-null   int64\n",
      " 9   TotalBsmtSF        1460 non-null   int64\n",
      " 10  HeatingQC          1460 non-null   int64\n",
      " 11  CentralAir         1460 non-null   bool \n",
      " 12  1stFlrSF           1460 non-null   int64\n",
      " 13  2ndFlrSF           1460 non-null   int64\n",
      " 14  LowQualFinSF       1460 non-null   int64\n",
      " 15  GrLivArea          1460 non-null   int64\n",
      " 16  BsmtFullBath       1460 non-null   int64\n",
      " 17  BsmtHalfBath       1460 non-null   int64\n",
      " 18  FullBath           1460 non-null   int64\n",
      " 19  HalfBath           1460 non-null   int64\n",
      " 20  BedroomAbvGr       1460 non-null   int64\n",
      " 21  KitchenAbvGr       1460 non-null   int64\n",
      " 22  KitchenQual        1460 non-null   int64\n",
      " 23  TotRmsAbvGrd       1460 non-null   int64\n",
      " 24  Foundation_BrkTil  1460 non-null   bool \n",
      " 25  Foundation_CBlock  1460 non-null   bool \n",
      " 26  Foundation_PConc   1460 non-null   bool \n",
      " 27  Foundation_Slab    1460 non-null   bool \n",
      " 28  Foundation_Stone   1460 non-null   bool \n",
      " 29  Foundation_Wood    1460 non-null   bool \n",
      " 30  Heating_Floor      1460 non-null   bool \n",
      " 31  Heating_GasA       1460 non-null   bool \n",
      " 32  Heating_GasW       1460 non-null   bool \n",
      " 33  Heating_Grav       1460 non-null   bool \n",
      " 34  Heating_OthW       1460 non-null   bool \n",
      " 35  Heating_Wall       1460 non-null   bool \n",
      " 36  Electrical_FuseA   1460 non-null   bool \n",
      " 37  Electrical_FuseF   1460 non-null   bool \n",
      " 38  Electrical_FuseP   1460 non-null   bool \n",
      " 39  Electrical_Mix     1460 non-null   bool \n",
      " 40  Electrical_SBrkr   1460 non-null   bool \n",
      "dtypes: bool(18), int64(23)\n",
      "memory usage: 299.4 KB\n"
     ]
    }
   ],
   "source": [
    "df_final.info()"
   ]
  },
  {
   "cell_type": "markdown",
   "id": "c28a9d45-ca34-42ab-8421-309f8e5a34e7",
   "metadata": {},
   "source": [
    "# No Missing Values, All Numeric variables"
   ]
  },
  {
   "cell_type": "code",
   "execution_count": null,
   "id": "e330f473-19bf-4eb4-9f39-701460e241d8",
   "metadata": {},
   "outputs": [],
   "source": []
  },
  {
   "cell_type": "markdown",
   "id": "c51c89cc-b8e2-4a36-a9dc-60fbe56aaa1c",
   "metadata": {},
   "source": [
    "# Git Code"
   ]
  },
  {
   "cell_type": "code",
   "execution_count": 224,
   "id": "e4abc826-15cb-4175-bc43-80170f50701c",
   "metadata": {},
   "outputs": [
    {
     "name": "stdout",
     "output_type": "stream",
     "text": [
      "On branch Data_Inspection_Vars_28_54\n",
      "Changes not staged for commit:\n",
      "  (use \"git add <file>...\" to update what will be committed)\n",
      "  (use \"git restore <file>...\" to discard changes in working directory)\n",
      "\tmodified:   Data_Inspection_Vars_28_54.ipynb\n",
      "\n",
      "no changes added to commit (use \"git add\" and/or \"git commit -a\")\n"
     ]
    }
   ],
   "source": [
    "!git status"
   ]
  },
  {
   "cell_type": "code",
   "execution_count": 225,
   "id": "75931c08-c058-47ef-a59e-809a08eefd70",
   "metadata": {},
   "outputs": [
    {
     "name": "stderr",
     "output_type": "stream",
     "text": [
      "warning: in the working copy of 'Data_Inspection_Vars_28_54.ipynb', LF will be replaced by CRLF the next time Git touches it\n"
     ]
    }
   ],
   "source": [
    "!git add Data_Inspection_Vars_28_54.ipynb"
   ]
  },
  {
   "cell_type": "code",
   "execution_count": 226,
   "id": "d1571b7c-a8a0-4c89-9faf-77dd11e7c6e1",
   "metadata": {},
   "outputs": [
    {
     "name": "stdout",
     "output_type": "stream",
     "text": [
      "[Data_Inspection_Vars_28_54 5c74423] Updated FORMULAS for data inspection notebook with changes to variables 28-54\n",
      " 1 file changed, 28 insertions(+), 2270 deletions(-)\n"
     ]
    }
   ],
   "source": [
    "!git commit -m \"Updated FORMULAS for data inspection notebook with changes to variables 28-54\""
   ]
  },
  {
   "cell_type": "code",
   "execution_count": 227,
   "id": "7763e3bf-16b4-4435-bded-04b0cc002bf8",
   "metadata": {},
   "outputs": [
    {
     "name": "stderr",
     "output_type": "stream",
     "text": [
      "To https://github.com/AaronMartin78/Kaggle-Competition-Housing-Prices-I\n",
      "   c0219c1..5c74423  Data_Inspection_Vars_28_54 -> Data_Inspection_Vars_28_54\n"
     ]
    }
   ],
   "source": [
    "!git push origin Data_Inspection_Vars_28_54"
   ]
  },
  {
   "cell_type": "code",
   "execution_count": null,
   "id": "aace9314-819f-4dc6-8d14-09e0618528de",
   "metadata": {},
   "outputs": [],
   "source": []
  }
 ],
 "metadata": {
  "kernelspec": {
   "display_name": "Python 3 (ipykernel)",
   "language": "python",
   "name": "python3"
  },
  "language_info": {
   "codemirror_mode": {
    "name": "ipython",
    "version": 3
   },
   "file_extension": ".py",
   "mimetype": "text/x-python",
   "name": "python",
   "nbconvert_exporter": "python",
   "pygments_lexer": "ipython3",
   "version": "3.9.15"
  }
 },
 "nbformat": 4,
 "nbformat_minor": 5
}
